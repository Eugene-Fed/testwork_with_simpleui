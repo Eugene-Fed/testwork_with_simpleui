{
 "cells": [
  {
   "cell_type": "markdown",
   "id": "900f9314",
   "metadata": {},
   "source": [
    "JSON Validator"
   ]
  },
  {
   "cell_type": "code",
   "execution_count": 8,
   "id": "b7972770",
   "metadata": {},
   "outputs": [],
   "source": [
    "BIRDS = [\n",
    "    {\"id\": \"000\", \"date_time\": \"2022.01.15 17:21\", \"name\": \"Синица\", \"color\": \"Yellow, Black and White\", \"photo\": None, \"views\": 0},\n",
    "    {\"id\": \"001\", \"date_time\": \"2022.01.15 17:22\", \"name\": \"Corvus Corax\", \"color\": \"Black\", \"photo\": None, \"views\": 0},\n",
    "    {\"id\": \"002\", \"date_time\": \"2022.01.15 17:22\", \"name\": \"Toucan\", \"color\": \"Black and White\", \"photo\": None, \"views\": 0}\n",
    "]\n",
    "\n",
    "BIRDS_OLD = {\n",
    "    \"cards\": [\n",
    "        {\n",
    "            \"key\": BIRDS[0][\"id\"],\n",
    "            \"picture\": BIRDS[0][\"photo\"],\n",
    "            \"description\": \"\",\n",
    "            \"items\": [\n",
    "                {\n",
    "                    \"key\": \"name\",\n",
    "                    \"value\": BIRDS[0][\"name\"],\n",
    "                    \"size\": \"15\"\n",
    "                },\n",
    "                {\n",
    "                    \"key\": \"color\",\n",
    "                    \"value\": BIRDS[0][\"color\"],\n",
    "                    \"size\": \"10\"\n",
    "                },\n",
    "                {\n",
    "                    \"key\": \"views\",\n",
    "                    \"value\": BIRDS[0][\"views\"],\n",
    "                    \"size\": \"10\"\n",
    "                },\n",
    "                {\n",
    "                    \"key\": \"date_time\",\n",
    "                    \"value\": BIRDS[0][\"date_time\"],\n",
    "                    \"size\": \"10\"\n",
    "                }\n",
    "            ]\n",
    "        },\n",
    "        {\n",
    "            \"key\": BIRDS[1][\"id\"],\n",
    "            \"picture\": BIRDS[1][\"photo\"],\n",
    "            \"description\": \"\",\n",
    "            \"items\": [\n",
    "                {\n",
    "                    \"key\": \"name\",\n",
    "                    \"value\": BIRDS[1][\"name\"],\n",
    "                    \"size\": \"15\"\n",
    "                },\n",
    "                {\n",
    "                    \"key\": \"color\",\n",
    "                    \"value\": BIRDS[1][\"color\"],\n",
    "                    \"size\": \"10\"\n",
    "                },\n",
    "                {\n",
    "                    \"key\": \"views\",\n",
    "                    \"value\": BIRDS[1][\"views\"],\n",
    "                    \"size\": \"10\"\n",
    "                },\n",
    "                {\n",
    "                    \"key\": \"date_time\",\n",
    "                    \"value\": BIRDS[1][\"date_time\"],\n",
    "                    \"size\": \"10\"\n",
    "                }\n",
    "            ]\n",
    "        },\n",
    "        {\n",
    "            \"key\": BIRDS[2][\"id\"],\n",
    "            \"picture\": BIRDS[2][\"photo\"],\n",
    "            \"description\": \"\",\n",
    "            \"items\": [\n",
    "                {\n",
    "                    \"key\": \"name\",\n",
    "                    \"value\": BIRDS[2][\"name\"],\n",
    "                    \"size\": \"15\"\n",
    "                },\n",
    "                {\n",
    "                    \"key\": \"color\",\n",
    "                    \"value\": BIRDS[2][\"color\"],\n",
    "                    \"size\": \"10\"\n",
    "                },\n",
    "                {\n",
    "                    \"key\": \"views\",\n",
    "                    \"value\": BIRDS[2][\"views\"],\n",
    "                    \"size\": \"10\"\n",
    "                },\n",
    "                {\n",
    "                    \"key\": \"date_time\",\n",
    "                    \"value\": BIRDS[2][\"date_time\"],\n",
    "                    \"size\": \"10\"\n",
    "                }\n",
    "            ]\n",
    "        }\n",
    "    ]\n",
    "}"
   ]
  },
  {
   "cell_type": "code",
   "execution_count": 10,
   "id": "486303cc",
   "metadata": {},
   "outputs": [
    {
     "name": "stdout",
     "output_type": "stream",
     "text": [
      "{'key': 'color', 'value': 'Yellow, Black and White', 'size': '10'}\n"
     ]
    }
   ],
   "source": [
    "print(BIRDS_OLD[\"cards\"][0][\"items\"][1])"
   ]
  },
  {
   "cell_type": "code",
   "execution_count": 7,
   "id": "27075cd5",
   "metadata": {},
   "outputs": [
    {
     "name": "stdout",
     "output_type": "stream",
     "text": [
      "2023-01-16 16:24:43\n"
     ]
    }
   ],
   "source": [
    "import datetime\n",
    "date_time = str(datetime.datetime.now()).split('.')[0]\n",
    "print(date_time)"
   ]
  },
  {
   "cell_type": "code",
   "execution_count": 12,
   "id": "ff3a9028",
   "metadata": {},
   "outputs": [
    {
     "data": {
      "text/plain": [
       "'[{\"id\": \"000\", \"date_time\": \"2022.01.15 17:21\", \"name\": \"Синица\", \"color\": \"Yellow, Black and White\", \"photo\": null, \"views\": 0}, {\"id\": \"001\", \"date_time\": \"2022.01.15 17:22\", \"name\": \"Corvus Corax\", \"color\": \"Black\", \"photo\": null, \"views\": 0}, {\"id\": \"002\", \"date_time\": \"2022.01.15 17:22\", \"name\": \"Toucan\", \"color\": \"Black and White\", \"photo\": null, \"views\": 0}]'"
      ]
     },
     "execution_count": 12,
     "metadata": {},
     "output_type": "execute_result"
    }
   ],
   "source": [
    "import json\n",
    "json.dumps(BIRDS, ensure_ascii=False).encode('utf8').decode()"
   ]
  }
 ],
 "metadata": {
  "kernelspec": {
   "display_name": "Python 3 (ipykernel)",
   "language": "python",
   "name": "python3"
  },
  "language_info": {
   "codemirror_mode": {
    "name": "ipython",
    "version": 3
   },
   "file_extension": ".py",
   "mimetype": "text/x-python",
   "name": "python",
   "nbconvert_exporter": "python",
   "pygments_lexer": "ipython3",
   "version": "3.10.4"
  }
 },
 "nbformat": 4,
 "nbformat_minor": 5
}
